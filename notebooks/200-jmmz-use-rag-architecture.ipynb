{
 "cells": [
  {
   "cell_type": "code",
   "execution_count": 1,
   "metadata": {},
   "outputs": [],
   "source": [
    "# Use this initial code to work in the notebook as if it were a module, that \n",
    "# is, to be able to export classes and functions from other subpackages.\n",
    "\n",
    "import os\n",
    "import sys\n",
    "\n",
    "package_path = os.path.abspath('.').split(os.sep + 'notebooks')[0]\n",
    "if package_path not in sys.path:\n",
    "    sys.path.append(package_path)\n",
    "\n",
    "%load_ext autoreload\n",
    "%autoreload 2"
   ]
  },
  {
   "cell_type": "code",
   "execution_count": 2,
   "metadata": {},
   "outputs": [],
   "source": [
    "from tuyabot_llm import AbsolutePaths\n",
    "from langchain_community.vectorstores import Chroma\n",
    "from langchain.embeddings import SentenceTransformerEmbeddings"
   ]
  },
  {
   "cell_type": "markdown",
   "metadata": {},
   "source": [
    "# Load docs"
   ]
  },
  {
   "cell_type": "code",
   "execution_count": 3,
   "metadata": {},
   "outputs": [],
   "source": [
    "current_dir = AbsolutePaths().get_abs_path_folder('raw')\n",
    "db_dir = os.path.join(current_dir, \"tuya_collection\")\n",
    "persistent_directory_clean = os.path.join(db_dir, \"chroma_tuya_collection_cleaned\")"
   ]
  },
  {
   "cell_type": "code",
   "execution_count": 4,
   "metadata": {},
   "outputs": [
    {
     "name": "stderr",
     "output_type": "stream",
     "text": [
      "C:\\Users\\mario\\AppData\\Local\\Temp\\ipykernel_19204\\3367226509.py:1: LangChainDeprecationWarning: The class `HuggingFaceEmbeddings` was deprecated in LangChain 0.2.2 and will be removed in 1.0. An updated version of the class exists in the :class:`~langchain-huggingface package and should be used instead. To use it run `pip install -U :class:`~langchain-huggingface` and import as `from :class:`~langchain_huggingface import HuggingFaceEmbeddings``.\n",
      "  embeddings = SentenceTransformerEmbeddings(model_name=\"all-MiniLM-L6-v2\")\n",
      "c:\\Users\\mario\\Documents\\job_interviews\\2025_tuya\\tuyabot_llm\\.venv2\\lib\\site-packages\\tqdm\\auto.py:21: TqdmWarning: IProgress not found. Please update jupyter and ipywidgets. See https://ipywidgets.readthedocs.io/en/stable/user_install.html\n",
      "  from .autonotebook import tqdm as notebook_tqdm\n"
     ]
    }
   ],
   "source": [
    "embeddings = SentenceTransformerEmbeddings(model_name=\"all-MiniLM-L6-v2\")"
   ]
  },
  {
   "cell_type": "code",
   "execution_count": 5,
   "metadata": {},
   "outputs": [
    {
     "name": "stderr",
     "output_type": "stream",
     "text": [
      "C:\\Users\\mario\\AppData\\Local\\Temp\\ipykernel_19204\\2605525261.py:1: LangChainDeprecationWarning: The class `Chroma` was deprecated in LangChain 0.2.9 and will be removed in 1.0. An updated version of the class exists in the :class:`~langchain-chroma package and should be used instead. To use it run `pip install -U :class:`~langchain-chroma` and import as `from :class:`~langchain_chroma import Chroma``.\n",
      "  db = Chroma(persist_directory=persistent_directory_clean, embedding_function=embeddings)\n"
     ]
    }
   ],
   "source": [
    "db = Chroma(persist_directory=persistent_directory_clean, embedding_function=embeddings)"
   ]
  },
  {
   "cell_type": "markdown",
   "metadata": {},
   "source": [
    "# Retrieve docs based in query"
   ]
  },
  {
   "cell_type": "code",
   "execution_count": 6,
   "metadata": {},
   "outputs": [
    {
     "name": "stdout",
     "output_type": "stream",
     "text": [
      "\n",
      "--- Relevant Documents ---\n",
      "Document 1:\n",
      "con garantía fondo credicompras dirigido con este crédito puedes comprar productos en los almacenes éxito en las categorías de: electrodomésticos, tecnología, colchones, llantas, muebles, máquinas de ejercicio, bicicletas, motos y movilidad eléctrica. características te ofrecemos montos desde $1.000.000 hasta $15’000,000 y plazos entre 12 y 36 meses. se te hará entrega de una tarjeta de único uso. con ella pagarás tu compra y tendrás 8 días para utilizarla. condiciones del producto. debes usar el monto aprobado en una única transacción de compra. en ella puedes llevar diferentes productos de\n",
      "\n",
      "Source: https://www.tuya.com.co/credicompras\n",
      "\n",
      "Document 2:\n",
      "seguro deudores** $3.143 credicompras libre destino tasa efectiva anual 24,89805% póliza colectiva seguro deudores** $3.143 credicompras bajo monto tasa efectiva anual 56,08602% póliza colectiva seguro deudores $3.143 ** para créditos desembolsados a partir del 1 de abril de 2019. póliza colectiva seguro deudores para créditos desembolsados hasta 31 de marzo de 2019: $3.159 por millón desembolsado. ver condicionado póliza colectiva de seguro de deudores. *sujeto a actualización de tasas mensual de la superintendencia financiera de colombia. así puedes pagar tu credicompras: sin filas y desde\n",
      "\n",
      "Source: https://www.tuya.com.co/credicompras\n",
      "\n",
      "Document 3:\n",
      "puedes llevar diferentes productos de las categorías mencionadas. para acceder al crédito deberás pagar un porcentaje, correspondiente a “garantía”. para conocer más detalles de la garantía ingresa a la pestaña credicompras con garantía fondo. recibirás un plan de pagos con las condiciones del crédito, tendrás cuota fija y plazo fijo. paga fácilmente tu crédito: aquí credicompras es de uso personal e intransferible. el valor del crédito se constituye por el valor de la compra realizada con credicompras y el plazo será el pactado en la solicitud. aplica la tasa vigente al momento de la compra.\n",
      "\n",
      "Source: https://www.tuya.com.co/credicompras\n",
      "\n",
      "Document 4:\n",
      "que se ven reflejados en nuestro actuar, generando así coherencia entre los que pensamos, decimos y hacemos. ¡generamos confianza a nuestros clientes! para tuya, la responsabilidad social es el reflejo de la manera en que otras empresas tienen en cuenta la efectividad y la repercusión que producen sus actividades en la sociedad. estas actividades deben regirse por los valores (cercanía, integridad, apasionados, flexibles, logradores) y principios, tanto en nuestros métodos y procesos internos como en la relación externa. ¡por nuestra responsabilidad social! información legal información\n",
      "\n",
      "Source: https://www.tuya.com.co/credicompras\n",
      "\n",
      "Document 5:\n",
      "a continuación: carta firmada por el cliente solicitando el endoso del seguro de vida. carátula con la información de la póliza, donde se indique: beneficiario oneroso: tuya s.a., nit 860.032.330-3. asegurado: debe corresponder al deudor. vigencia del seguro: debe ser mínimo de un año. valor asegurado: igual o superior al monto del crédito aprobado por tuya. amparos: vida e incapacidad total y permanente. amparos: vida e incapacidad total y permanente. o cobertura de muerte por cualquier causa incluyendo el suicidio y el homicidio desde el primer día de cobertura de la póliza. cláusulas de\n",
      "\n",
      "Source: https://www.tuya.com.co/credicompras\n",
      "\n"
     ]
    }
   ],
   "source": [
    "retriever = db.as_retriever(\n",
    "    search_type=\"similarity\",\n",
    "    search_kwargs={\"k\": 5},\n",
    ")\n",
    "\n",
    "query = \"¿Cuáles son los valores la tasa de interés y póliza del producto credicompras?\"\n",
    "\n",
    "relevant_docs = retriever.invoke(query)\n",
    "\n",
    "print(\"\\n--- Relevant Documents ---\")\n",
    "for i, doc in enumerate(relevant_docs, 1):\n",
    "    print(f\"Document {i}:\\n{doc.page_content}\\n\")\n",
    "    if doc.metadata:\n",
    "        print(f\"Source: {doc.metadata.get('source', 'Unknown')}\\n\")"
   ]
  },
  {
   "cell_type": "code",
   "execution_count": 7,
   "metadata": {},
   "outputs": [
    {
     "data": {
      "text/plain": [
       "['con garantía fondo credicompras dirigido con este crédito puedes comprar productos en los almacenes éxito en las categorías de: electrodomésticos, tecnología, colchones, llantas, muebles, máquinas de ejercicio, bicicletas, motos y movilidad eléctrica. características te ofrecemos montos desde $1.000.000 hasta $15’000,000 y plazos entre 12 y 36 meses. se te hará entrega de una tarjeta de único uso. con ella pagarás tu compra y tendrás 8 días para utilizarla. condiciones del producto. debes usar el monto aprobado en una única transacción de compra. en ella puedes llevar diferentes productos de',\n",
       " 'seguro deudores** $3.143 credicompras libre destino tasa efectiva anual 24,89805% póliza colectiva seguro deudores** $3.143 credicompras bajo monto tasa efectiva anual 56,08602% póliza colectiva seguro deudores $3.143 ** para créditos desembolsados a partir del 1 de abril de 2019. póliza colectiva seguro deudores para créditos desembolsados hasta 31 de marzo de 2019: $3.159 por millón desembolsado. ver condicionado póliza colectiva de seguro de deudores. *sujeto a actualización de tasas mensual de la superintendencia financiera de colombia. así puedes pagar tu credicompras: sin filas y desde',\n",
       " 'puedes llevar diferentes productos de las categorías mencionadas. para acceder al crédito deberás pagar un porcentaje, correspondiente a “garantía”. para conocer más detalles de la garantía ingresa a la pestaña credicompras con garantía fondo. recibirás un plan de pagos con las condiciones del crédito, tendrás cuota fija y plazo fijo. paga fácilmente tu crédito: aquí credicompras es de uso personal e intransferible. el valor del crédito se constituye por el valor de la compra realizada con credicompras y el plazo será el pactado en la solicitud. aplica la tasa vigente al momento de la compra.',\n",
       " 'que se ven reflejados en nuestro actuar, generando así coherencia entre los que pensamos, decimos y hacemos. ¡generamos confianza a nuestros clientes! para tuya, la responsabilidad social es el reflejo de la manera en que otras empresas tienen en cuenta la efectividad y la repercusión que producen sus actividades en la sociedad. estas actividades deben regirse por los valores (cercanía, integridad, apasionados, flexibles, logradores) y principios, tanto en nuestros métodos y procesos internos como en la relación externa. ¡por nuestra responsabilidad social! información legal información',\n",
       " 'a continuación: carta firmada por el cliente solicitando el endoso del seguro de vida. carátula con la información de la póliza, donde se indique: beneficiario oneroso: tuya s.a., nit 860.032.330-3. asegurado: debe corresponder al deudor. vigencia del seguro: debe ser mínimo de un año. valor asegurado: igual o superior al monto del crédito aprobado por tuya. amparos: vida e incapacidad total y permanente. amparos: vida e incapacidad total y permanente. o cobertura de muerte por cualquier causa incluyendo el suicidio y el homicidio desde el primer día de cobertura de la póliza. cláusulas de']"
      ]
     },
     "execution_count": 7,
     "metadata": {},
     "output_type": "execute_result"
    }
   ],
   "source": [
    "[i.page_content for i in relevant_docs]"
   ]
  },
  {
   "cell_type": "code",
   "execution_count": 8,
   "metadata": {},
   "outputs": [
    {
     "name": "stdout",
     "output_type": "stream",
     "text": [
      "Context for LLM:\n",
      "\n",
      " con garantía fondo credicompras dirigido con este crédito puedes comprar productos en los almacenes éxito en las categorías de: electrodomésticos, tecnología, colchones, llantas, muebles, máquinas de ejercicio, bicicletas, motos y movilidad eléctrica. características te ofrecemos montos desde $1.000.000 hasta $15’000,000 y plazos entre 12 y 36 meses. se te hará entrega de una tarjeta de único uso. con ella pagarás tu compra y tendrás 8 días para utilizarla. condiciones del producto. debes usar el monto aprobado en una única transacción de compra. en ella puedes llevar diferentes productos de\n",
      "seguro deudores** $3.143 credicompras libre destino tasa efectiva anual 24,89805% póliza colectiva seguro deudores** $3.143 credicompras bajo monto tasa efectiva anual 56,08602% póliza colectiva seguro deudores $3.143 ** para créditos desembolsados a partir del 1 de abril de 2019. póliza colectiva seguro deudores para créditos desembolsados hasta 31 de marzo de 2019: $3.159 por millón desembolsado. ver condicionado póliza colectiva de seguro de deudores. *sujeto a actualización de tasas mensual de la superintendencia financiera de colombia. así puedes pagar tu credicompras: sin filas y desde\n",
      "puedes llevar diferentes productos de las categorías mencionadas. para acceder al crédito deberás pagar un porcentaje, correspondiente a “garantía”. para conocer más detalles de la garantía ingresa a la pestaña credicompras con garantía fondo. recibirás un plan de pagos con las condiciones del crédito, tendrás cuota fija y plazo fijo. paga fácilmente tu crédito: aquí credicompras es de uso personal e intransferible. el valor del crédito se constituye por el valor de la compra realizada con credicompras y el plazo será el pactado en la solicitud. aplica la tasa vigente al momento de la compra.\n",
      "que se ven reflejados en nuestro actuar, generando así coherencia entre los que pensamos, decimos y hacemos. ¡generamos confianza a nuestros clientes! para tuya, la responsabilidad social es el reflejo de la manera en que otras empresas tienen en cuenta la efectividad y la repercusión que producen sus actividades en la sociedad. estas actividades deben regirse por los valores (cercanía, integridad, apasionados, flexibles, logradores) y principios, tanto en nuestros métodos y procesos internos como en la relación externa. ¡por nuestra responsabilidad social! información legal información\n",
      "a continuación: carta firmada por el cliente solicitando el endoso del seguro de vida. carátula con la información de la póliza, donde se indique: beneficiario oneroso: tuya s.a., nit 860.032.330-3. asegurado: debe corresponder al deudor. vigencia del seguro: debe ser mínimo de un año. valor asegurado: igual o superior al monto del crédito aprobado por tuya. amparos: vida e incapacidad total y permanente. amparos: vida e incapacidad total y permanente. o cobertura de muerte por cualquier causa incluyendo el suicidio y el homicidio desde el primer día de cobertura de la póliza. cláusulas de\n"
     ]
    }
   ],
   "source": [
    "def format_docs(docs):\n",
    "    formatted_docs = \"\\n\".join(doc.page_content for doc in docs)\n",
    "    # print(f\"**Formatted Docs**: {formatted_docs}\\n*******************************\")  # Inspeccionar la salida de format_docs\n",
    "    return formatted_docs\n",
    "\n",
    "context = format_docs(relevant_docs)\n",
    "print(\"Context for LLM:\\n\\n\", context)"
   ]
  },
  {
   "cell_type": "code",
   "execution_count": 9,
   "metadata": {},
   "outputs": [
    {
     "name": "stdout",
     "output_type": "stream",
     "text": [
      "\n",
      "--- Relevant Documents ---\n",
      "Document 1:\n",
      "y te das esos gusticos que siempre has querido. *aplican términos y condiciones de cada tarjeta disponible. adquiere historial crediticio con nuestras tarjetas de crédito tuya para aquellas personas jóvenes o que aún no tienen historial crediticio, solicitar una de nuestras tarjetas de crédito es una excelente oportunidad para ir construyendo su historial de compras a crédito y así acceder más adelante a otros productos crediticios con mayor facilidad. puedes empezar con alguna de nuestras tarjetas de crédito básicas como la tarjeta éxito y realizar compras a una sola cuota para no afectar\n",
      "\n",
      "Source: https://www.tuya.com.co/tarjetas-de-credito\n",
      "\n",
      "Document 2:\n",
      "ti: inicia tu historial crediticio con nuestras tarjetas de crédito. sólo pagas la cuota de manejo cuando usas las tarjetas*. recibes descuentos exclusivos en almacenes éxito y carulla. acumulas puntos colombia para redimir en comercios aliados. descuentos con tarjetas de crédito tuya con nuestras tarjetas de crédito obtienes descuentos exclusivos en los almacenes éxito y carulla. todas las semanas recibirás nuevas ofertas pagando con las tarjetas de crédito tuya. así podrás ahorrar todo el año mientras compras todo lo que necesitas para el hogar y te das esos gusticos que siempre has\n",
      "\n",
      "Source: https://www.tuya.com.co/tarjetas-de-credito\n",
      "\n",
      "Document 3:\n",
      "a una sola cuota para no afectar tus finanzas personales. si quieres conocer algunos consejos para el uso correcto de tu tarjeta de crédito, puedes consultar estos tips de educación financiera. ¿con la tarjeta de crédito puedo retirar dinero del cajero? con las tarjetas de crédito tuya puedes retirar dinero en todas las cajas de los almacenes del grupo éxito y con las tarjetas éxito gold mastercard y la éxito pro mastercard también puedes retirar dinero en los cajeros automáticos. ¿con las tarjetas de crédito tuya puedo hacer compras fuera de colombia? si tienes una de nuestras tarjetas de\n",
      "\n",
      "Source: https://www.tuya.com.co/tarjetas-de-credito\n",
      "\n",
      "Document 4:\n",
      "tiene responsabilidad en la ejecución de los mismos. ¿cómo pagar las tarjetas de crédito tuya? cuando tengas una de las tarjetas de crédito tuya, podrás realizar todos tus pagos de diferentes maneras, según como te quede más fácil. paga a través de internet, de forma presencial o mediante débito automático. paga tu tarjeta de crédito por internet una forma fácil de hacer tu pago, seguro y sin salir de casa. puedes realizar el pago de tu tarjeta de crédito 24/7 y en cualquiera de las dos plataformas habilitadas para ello. conoce cuales: botón de pagos bancolombia botón de pagos pse paga tu\n",
      "\n",
      "Source: https://www.tuya.com.co/tarjetas-de-credito\n",
      "\n",
      "Document 5:\n",
      "te llamaremos telefónicamente para ayudarte a activar tu tarjeta. solicitar una tarjeta de crédito tuya de forma presencial si prefieres solicitar tu tarjeta de crédito de forma presencial, debes acercarte a uno de nuestros centros de atención ubicados en los principales almacenes éxito o carulla del país. encuentra el más cercano aquí. ten presente que debes presentar tu cédula original y nuestro asesor puede solicitar otros documentos de respaldo para el estudio de tu crédito. nota importante: la aprobación de la tarjeta de crédito está sujeta al análisis de riesgo realizado por tuya s.a.\n",
      "\n",
      "Source: https://www.tuya.com.co/tarjetas-de-credito\n",
      "\n"
     ]
    }
   ],
   "source": [
    "retriever = db.as_retriever(\n",
    "    search_type=\"similarity\",\n",
    "    search_kwargs={\"k\": 5},\n",
    ")\n",
    "\n",
    "query = \"¿Qué tipos de tarjeta de crédito ofrece TUYA?\"\n",
    "\n",
    "relevant_docs = retriever.invoke(query)\n",
    "\n",
    "print(\"\\n--- Relevant Documents ---\")\n",
    "for i, doc in enumerate(relevant_docs, 1):\n",
    "    print(f\"Document {i}:\\n{doc.page_content}\\n\")\n",
    "    if doc.metadata:\n",
    "        print(f\"Source: {doc.metadata.get('source', 'Unknown')}\\n\")"
   ]
  },
  {
   "cell_type": "code",
   "execution_count": 10,
   "metadata": {},
   "outputs": [
    {
     "name": "stdout",
     "output_type": "stream",
     "text": [
      "Context for LLM:\n",
      "\n",
      " y te das esos gusticos que siempre has querido. *aplican términos y condiciones de cada tarjeta disponible. adquiere historial crediticio con nuestras tarjetas de crédito tuya para aquellas personas jóvenes o que aún no tienen historial crediticio, solicitar una de nuestras tarjetas de crédito es una excelente oportunidad para ir construyendo su historial de compras a crédito y así acceder más adelante a otros productos crediticios con mayor facilidad. puedes empezar con alguna de nuestras tarjetas de crédito básicas como la tarjeta éxito y realizar compras a una sola cuota para no afectar\n",
      "ti: inicia tu historial crediticio con nuestras tarjetas de crédito. sólo pagas la cuota de manejo cuando usas las tarjetas*. recibes descuentos exclusivos en almacenes éxito y carulla. acumulas puntos colombia para redimir en comercios aliados. descuentos con tarjetas de crédito tuya con nuestras tarjetas de crédito obtienes descuentos exclusivos en los almacenes éxito y carulla. todas las semanas recibirás nuevas ofertas pagando con las tarjetas de crédito tuya. así podrás ahorrar todo el año mientras compras todo lo que necesitas para el hogar y te das esos gusticos que siempre has\n",
      "a una sola cuota para no afectar tus finanzas personales. si quieres conocer algunos consejos para el uso correcto de tu tarjeta de crédito, puedes consultar estos tips de educación financiera. ¿con la tarjeta de crédito puedo retirar dinero del cajero? con las tarjetas de crédito tuya puedes retirar dinero en todas las cajas de los almacenes del grupo éxito y con las tarjetas éxito gold mastercard y la éxito pro mastercard también puedes retirar dinero en los cajeros automáticos. ¿con las tarjetas de crédito tuya puedo hacer compras fuera de colombia? si tienes una de nuestras tarjetas de\n",
      "tiene responsabilidad en la ejecución de los mismos. ¿cómo pagar las tarjetas de crédito tuya? cuando tengas una de las tarjetas de crédito tuya, podrás realizar todos tus pagos de diferentes maneras, según como te quede más fácil. paga a través de internet, de forma presencial o mediante débito automático. paga tu tarjeta de crédito por internet una forma fácil de hacer tu pago, seguro y sin salir de casa. puedes realizar el pago de tu tarjeta de crédito 24/7 y en cualquiera de las dos plataformas habilitadas para ello. conoce cuales: botón de pagos bancolombia botón de pagos pse paga tu\n",
      "te llamaremos telefónicamente para ayudarte a activar tu tarjeta. solicitar una tarjeta de crédito tuya de forma presencial si prefieres solicitar tu tarjeta de crédito de forma presencial, debes acercarte a uno de nuestros centros de atención ubicados en los principales almacenes éxito o carulla del país. encuentra el más cercano aquí. ten presente que debes presentar tu cédula original y nuestro asesor puede solicitar otros documentos de respaldo para el estudio de tu crédito. nota importante: la aprobación de la tarjeta de crédito está sujeta al análisis de riesgo realizado por tuya s.a.\n"
     ]
    }
   ],
   "source": [
    "context = format_docs(relevant_docs)\n",
    "print(\"Context for LLM:\\n\\n\", context)"
   ]
  },
  {
   "cell_type": "code",
   "execution_count": null,
   "metadata": {},
   "outputs": [],
   "source": []
  },
  {
   "cell_type": "code",
   "execution_count": null,
   "metadata": {},
   "outputs": [],
   "source": []
  },
  {
   "cell_type": "markdown",
   "metadata": {},
   "source": [
    "# Load model"
   ]
  },
  {
   "cell_type": "code",
   "execution_count": 11,
   "metadata": {},
   "outputs": [
    {
     "name": "stdout",
     "output_type": "stream",
     "text": [
      "CUDA está disponible. El modelo puede ejecutarse en GPU.\n"
     ]
    }
   ],
   "source": [
    "import torch\n",
    "\n",
    "if torch.cuda.is_available():\n",
    "    print(\"CUDA está disponible. El modelo puede ejecutarse en GPU.\")\n",
    "else:\n",
    "    print(\"CUDA no está disponible. El modelo se ejecutará en CPU.\")"
   ]
  },
  {
   "cell_type": "code",
   "execution_count": 12,
   "metadata": {},
   "outputs": [
    {
     "name": "stderr",
     "output_type": "stream",
     "text": [
      "c:\\Users\\mario\\Documents\\job_interviews\\2025_tuya\\tuyabot_llm\\.venv2\\lib\\site-packages\\torch\\__init__.py:1236: UserWarning: torch.set_default_tensor_type() is deprecated as of PyTorch 2.1, please use torch.set_default_dtype() and torch.set_default_device() as alternatives. (Triggered internally at C:\\actions-runner\\_work\\pytorch\\pytorch\\pytorch\\torch\\csrc\\tensor\\python_tensor.cpp:436.)\n",
      "  _C._set_default_tensor_type(t)\n"
     ]
    }
   ],
   "source": [
    "torch.set_default_tensor_type(\"torch.cuda.FloatTensor\")"
   ]
  },
  {
   "cell_type": "code",
   "execution_count": 13,
   "metadata": {},
   "outputs": [
    {
     "name": "stderr",
     "output_type": "stream",
     "text": [
      "Device set to use cuda:0\n"
     ]
    }
   ],
   "source": [
    "from transformers import AutoTokenizer, AutoModelForCausalLM, pipeline \n",
    "from langchain_huggingface import HuggingFacePipeline\n",
    "\n",
    "model_id = 'unsloth/Llama-3.2-1B-Instruct' \n",
    "tokenizer = AutoTokenizer.from_pretrained(model_id, device=\"cuda:0\", truncation=True)\n",
    "model = AutoModelForCausalLM.from_pretrained(model_id) \n",
    "\n",
    "\n",
    "pipe = pipeline(\n",
    "    \"text-generation\",\n",
    "    model=model,\n",
    "    tokenizer=tokenizer,\n",
    "    max_length=2000,\n",
    "    # truncate=True,\n",
    "    temperature=0.2,\n",
    "    top_k=10,\n",
    "    # repetition_penalty=1.5,\n",
    "    # no_repeat_ngram_size=4,  # Ajusta el tamaño de los n-gramas que no se pueden repetir\n",
    ")\n",
    "\n",
    "#conversión a uso api tipo langchain \n",
    "local_llm = HuggingFacePipeline(pipeline=pipe)"
   ]
  },
  {
   "cell_type": "markdown",
   "metadata": {},
   "source": [
    "# Use RAG"
   ]
  },
  {
   "cell_type": "code",
   "execution_count": 14,
   "metadata": {},
   "outputs": [],
   "source": [
    "from langchain_core.prompts import PromptTemplate\n",
    "from langchain_core.runnables import RunnablePassthrough\n",
    "from langchain_core.output_parsers import StrOutputParser\n",
    "\n",
    "template = \"\"\"\n",
    "Eres un agente de servicio al cliente que trabaja para TUYA SA, una empresa que se\n",
    "dedica a ser la solución financiera del retail y que busca apoyar a los sectores\n",
    "vulnerables de la sociedad. \n",
    "\n",
    "Como agente de servicio al cliente, debes suministrar respuestas amigables y\n",
    "claras a los clientes.\n",
    "\n",
    "Emplea el contexto que te ofrece la empresa TUYA delimitado por triple comillas invertidas, para responder\n",
    "la pregunta que se encuentra al final delimitada por comillas simples.\n",
    "\n",
    "Siempre que puedas responder con una serie de items hazlo, tu respuesta es máximo de 15 palabras y debe ser completamente \n",
    "en español.\n",
    "\n",
    "Contexto: ```{context}```\n",
    "\n",
    "Pregunta: '{question}'\n",
    "\"\"\"\n",
    "\n",
    "prompt = PromptTemplate.from_template(template)\n",
    "\n",
    "rag_chain = (\n",
    "    {\"context\": retriever | format_docs, \"question\": RunnablePassthrough()}\n",
    "    | prompt\n",
    "    | local_llm\n",
    "    | StrOutputParser()\n",
    ")"
   ]
  },
  {
   "cell_type": "code",
   "execution_count": 20,
   "metadata": {},
   "outputs": [],
   "source": [
    "q = \"¿Cuáles son los valores de la tasa de interés y póliza del producto credicompras?\""
   ]
  },
  {
   "cell_type": "code",
   "execution_count": 21,
   "metadata": {},
   "outputs": [],
   "source": [
    "# rag_chain.invoke(q)"
   ]
  },
  {
   "cell_type": "code",
   "execution_count": 24,
   "metadata": {},
   "outputs": [
    {
     "name": "stdout",
     "output_type": "stream",
     "text": [
      "Respuesta: \n",
      "- El valor de la tasa de interés es el 24,89805% anual.\n",
      "- El valor de la póliza de seguro deudores es el 56,08602% anual."
     ]
    }
   ],
   "source": [
    "for chunk in rag_chain.stream(q):\n",
    "    print(chunk, end=\"\", flush=True)"
   ]
  },
  {
   "cell_type": "code",
   "execution_count": 33,
   "metadata": {},
   "outputs": [
    {
     "name": "stderr",
     "output_type": "stream",
     "text": [
      "Truncation was not explicitly activated but `max_length` is provided a specific value, please use `truncation=True` to explicitly truncate examples to max length. Defaulting to 'longest_first' truncation strategy. If you encode pairs of sequences (GLUE-style) with the tokenizer you can select this strategy more precisely by providing a specific strategy to `truncation`.\n"
     ]
    },
    {
     "name": "stdout",
     "output_type": "stream",
     "text": [
      "Respuesta: \n",
      "Tuya ofrece varias opciones de tarjetas de crédito, incluyendo la tarjeta Success y la Success Gold Mastercard, así como la Success Pro Mastercard. Estas tarjetas ofrecen diferentes beneficios y características, como descuentos exclusivos, acumulación de puntos, y acceso a servicios de pago en línea. Es importante tener en cuenta que cada tarjeta tiene sus propias condiciones y términos, por lo que es recomendable consultar con un representante de Tuya para obtener más información."
     ]
    }
   ],
   "source": [
    "q = \"\"\"\n",
    "¿Qué tipos de tarjeta de crédito ofrece TUYA?, enlístalas\n",
    "\"\"\"\n",
    "\n",
    "for chunk in rag_chain.stream(q):\n",
    "    print(chunk, end=\"\", flush=True)"
   ]
  },
  {
   "cell_type": "markdown",
   "metadata": {},
   "source": [
    "# Gradio DEMO"
   ]
  },
  {
   "cell_type": "markdown",
   "metadata": {},
   "source": [
    "## First demo"
   ]
  },
  {
   "cell_type": "code",
   "execution_count": 3,
   "metadata": {},
   "outputs": [],
   "source": [
    "# Definir la función para generar la respuesta\n",
    "def generate_response(question):\n",
    "\n",
    "    template = \"\"\"\n",
    "        Eres un agente de servicio al cliente que trabaja para TUYA SA, una empresa que se\n",
    "        dedica a ser la solución financiera del retail y que busca apoyar a los sectores\n",
    "        vulnerables de la sociedad. \n",
    "\n",
    "        Como agente de servicio al cliente, debes suministrar respuestas amigables y\n",
    "        claras a los clientes.\n",
    "\n",
    "        Emplea el contexto que te ofrece la empresa TUYA delimitado por triple comillas invertidas, para responder\n",
    "        la pregunta que se encuentra al final delimitada por comillas simples.\n",
    "\n",
    "        Siempre que puedas responder con una serie de items hazlo, tu respuesta es máximo de 15 palabras y debe ser completamente \n",
    "        en español.\n",
    "\n",
    "        Contexto: ```{context}```\n",
    "\n",
    "        Pregunta: '{question}'\n",
    "        \"\"\"\n",
    "    \n",
    "    prompt = PromptTemplate.from_template(template)\n",
    "\n",
    "    rag_chain = (\n",
    "        {\"context\": retriever | format_docs, \"question\": RunnablePassthrough()}\n",
    "        | prompt\n",
    "        | local_llm\n",
    "        | StrOutputParser()\n",
    "    )\n",
    "\n",
    "    output = rag_chain.invoke(question)\n",
    "\n",
    "    \n",
    "    return  output\n",
    "\n"
   ]
  },
  {
   "cell_type": "code",
   "execution_count": 16,
   "metadata": {},
   "outputs": [],
   "source": [
    "import gradio as gr\n",
    "\n",
    "demo = gr.Interface(\n",
    "    fn=generate_response,\n",
    "    inputs=[\n",
    "        gr.Textbox(label=\"question\"),\n",
    "    ],\n",
    "    outputs=gr.Textbox(label=\"answer\"),\n",
    "    title=\"Agente de Servicio al Cliente TUYABOT\",\n",
    "    description=\"Pregúntame algo sobre TUYA SA\",\n",
    ")"
   ]
  },
  {
   "cell_type": "code",
   "execution_count": 17,
   "metadata": {},
   "outputs": [
    {
     "name": "stdout",
     "output_type": "stream",
     "text": [
      "* Running on local URL:  http://127.0.0.1:7860\n",
      "* Running on public URL: https://2ec79d8407ccb9ee48.gradio.live\n",
      "\n",
      "This share link expires in 72 hours. For free permanent hosting and GPU upgrades, run `gradio deploy` from the terminal in the working directory to deploy to Hugging Face Spaces (https://huggingface.co/spaces)\n"
     ]
    },
    {
     "data": {
      "text/html": [
       "<div><iframe src=\"https://2ec79d8407ccb9ee48.gradio.live\" width=\"100%\" height=\"500\" allow=\"autoplay; camera; microphone; clipboard-read; clipboard-write;\" frameborder=\"0\" allowfullscreen></iframe></div>"
      ],
      "text/plain": [
       "<IPython.core.display.HTML object>"
      ]
     },
     "metadata": {},
     "output_type": "display_data"
    },
    {
     "data": {
      "text/plain": []
     },
     "execution_count": 17,
     "metadata": {},
     "output_type": "execute_result"
    },
    {
     "name": "stderr",
     "output_type": "stream",
     "text": [
      "Truncation was not explicitly activated but `max_length` is provided a specific value, please use `truncation=True` to explicitly truncate examples to max length. Defaulting to 'longest_first' truncation strategy. If you encode pairs of sequences (GLUE-style) with the tokenizer you can select this strategy more precisely by providing a specific strategy to `truncation`.\n"
     ]
    }
   ],
   "source": [
    "demo.launch(share=True)"
   ]
  },
  {
   "cell_type": "code",
   "execution_count": 37,
   "metadata": {},
   "outputs": [
    {
     "name": "stdout",
     "output_type": "stream",
     "text": [
      "Closing server running on port: 7860\n"
     ]
    }
   ],
   "source": [
    "demo.close()"
   ]
  }
 ],
 "metadata": {
  "kernelspec": {
   "display_name": ".venv2",
   "language": "python",
   "name": "python3"
  },
  "language_info": {
   "codemirror_mode": {
    "name": "ipython",
    "version": 3
   },
   "file_extension": ".py",
   "mimetype": "text/x-python",
   "name": "python",
   "nbconvert_exporter": "python",
   "pygments_lexer": "ipython3",
   "version": "3.10.11"
  }
 },
 "nbformat": 4,
 "nbformat_minor": 2
}
