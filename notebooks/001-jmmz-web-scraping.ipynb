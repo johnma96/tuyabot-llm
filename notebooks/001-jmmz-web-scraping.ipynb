{
 "cells": [
  {
   "cell_type": "code",
   "execution_count": 1,
   "metadata": {},
   "outputs": [],
   "source": [
    "# Use this initial code to work in the notebook as if it were a module, that \n",
    "# is, to be able to export classes and functions from other subpackages.\n",
    "\n",
    "import os\n",
    "import sys\n",
    "\n",
    "package_path = os.path.abspath('.').split(os.sep + 'notebooks')[0]\n",
    "if package_path not in sys.path:\n",
    "    sys.path.append(package_path)\n",
    "\n",
    "%load_ext autoreload\n",
    "%autoreload 2"
   ]
  },
  {
   "cell_type": "code",
   "execution_count": 4,
   "metadata": {},
   "outputs": [],
   "source": [
    "import requests\n",
    "from dotenv import load_dotenv\n",
    "from bs4 import BeautifulSoup\n",
    "from IPython.display import Markdown, display\n",
    "\n",
    "from tuyabot_llm import AbsolutePaths"
   ]
  },
  {
   "cell_type": "code",
   "execution_count": 13,
   "metadata": {},
   "outputs": [],
   "source": [
    "headers = {\n",
    " \"User-Agent\": \"Mozilla/5.0 (Windows NT 10.0; Win64; x64) AppleWebKit/537.36 (KHTML, like Gecko) Chrome/117.0.0.0 Safari/537.36\"\n",
    "}\n",
    "\n",
    "class Website:\n",
    "\n",
    "    def __init__(self, url):\n",
    "        \"\"\"\n",
    "        Create this Website object from the given url using the BeautifulSoup library\n",
    "        \"\"\"\n",
    "        self.url = url\n",
    "        response = requests.get(url, headers=headers)\n",
    "        soup = BeautifulSoup(response.content, 'html.parser')\n",
    "        self.title = soup.title.string if soup.title else \"No title found\"\n",
    "        for irrelevant in soup.body([\"script\", \"style\", \"img\", \"input\"]):\n",
    "            irrelevant.decompose()\n",
    "        self.text = soup.body.get_text(separator=\"\\n\", strip=True)"
   ]
  },
  {
   "cell_type": "code",
   "execution_count": 16,
   "metadata": {},
   "outputs": [],
   "source": [
    "web_pages = [\n",
    "    'https://www.tuya.com.co/productos-financieros',\n",
    "    'https://www.tuya.com.co/tarjetas-de-credito',\n",
    "    'https://www.tuya.com.co/asistencias-y-seguros',\n",
    "    'https://www.tuya.com.co/cuenta-digital-tuyapay',\n",
    "    'https://www.tuya.com.co/credicompras',\n",
    "    'https://www.tuya.com.co/cdt',\n",
    "    'https://www.tuya.com.co/otras-soluciones-financieras',\n",
    "    'https://www.tuya.com.co/nuestra-compania',\n",
    "    'https://www.tuya.com.co/gobierno-corporativo',\n",
    "    'https://www.tuya.com.co/responsabilidad-social',\n",
    "    'https://www.tuya.com.co/atencion-inversionistas',\n",
    "    'https://www.tuya.com.co/activacion-tarjeta',\n",
    "    'https://servicios.tuya.com.co/solucionesdepago?utm_source=sitioweb&utm_medium=cpc&utm_campaign=sitioweb_boton_solucionesdepago&utm_term=sitioweb_boton_solucionesdepago&utm_content=sitioweb_boton_solucionesdepago',\n",
    "    'https://www.tuya.com.co/como-pago-mi-tarjeta-o-credicompras',\n",
    "    'https://www.tuya.com.co/app-tuya',\n",
    "    'https://www.tuya.com.co/ofertas',\n",
    "    'https://www.tuya.com.co/yo-tengo'\n",
    "]"
   ]
  },
  {
   "cell_type": "code",
   "execution_count": 17,
   "metadata": {},
   "outputs": [
    {
     "data": {
      "text/plain": [
       "'https://www.tuya.com.co/productos-financieros'"
      ]
     },
     "execution_count": 17,
     "metadata": {},
     "output_type": "execute_result"
    }
   ],
   "source": [
    "web_pages[0]"
   ]
  },
  {
   "cell_type": "code",
   "execution_count": 28,
   "metadata": {},
   "outputs": [
    {
     "name": "stdout",
     "output_type": "stream",
     "text": [
      "No title found\n",
      "Request unsuccessful. Incapsula incident ID: 7222000300063474123-161131093061666702\n"
     ]
    }
   ],
   "source": [
    "ed = Website('https://www.tuya.com.co/productos-financieros')\n",
    "print(ed.title)\n",
    "print(ed.text)"
   ]
  },
  {
   "cell_type": "code",
   "execution_count": 26,
   "metadata": {},
   "outputs": [
    {
     "name": "stdout",
     "output_type": "stream",
     "text": [
      "<Response [403]>\n"
     ]
    }
   ],
   "source": [
    "from bs4 import BeautifulSoup\n",
    "import requests\n",
    "import random\n",
    " \n",
    "# Create a list of user agents\n",
    "user_agents =[\n",
    "    # 'Mozilla/5.0 (Windows NT 10.0; Win64; x64) AppleWebKit/537.36 (KHTML, like Gecko) Chrome/109.0.0.0 Safari/537.36',\n",
    "    # 'Mozilla/5.0 (Macintosh; Intel Mac OS X 10_15_7) AppleWebKit/537.36 (KHTML, like Gecko) Chrome/109.0.0.0 Safari/537.36',\n",
    "    # 'Mozilla/5.0 (Macintosh; Intel Mac OS X 10_15_7) AppleWebKit/537.36 (KHTML, like Gecko) Chrome/108.0.0.0 Safari/537.36',\n",
    "    # 'Mozilla/5.0 (X11; Linux x86_64) AppleWebKit/537.36 (KHTML, like Gecko) Chrome/108.0.0.0 Safari/537.36',\n",
    "    'Mozilla/5.0 (Linux; Linux i552 x86_64) AppleWebKit/602.35 (KHTML, like Gecko) Chrome/52.0.2496.170 Safari/537'\n",
    "    ]\n",
    " \n",
    "target_website = web_pages[0]\n",
    " \n",
    "# Add user agents at random\n",
    "request_headers = {\n",
    "    'user-agent': random.choice(user_agents)\n",
    "}\n",
    " \n",
    "# Initiate HTTP request\n",
    "response = requests.get(target_website, headers=request_headers)\n",
    " \n",
    "# Resolve HTTP response\n",
    "if response.status_code == 200:\n",
    "    # View request user agent\n",
    "    print(f'User agent used: {response.request.headers[\"user-agent\"]}')\n",
    "else:\n",
    "    print(response)\n"
   ]
  },
  {
   "cell_type": "code",
   "execution_count": 27,
   "metadata": {},
   "outputs": [
    {
     "data": {
      "text/plain": [
       "<Response [403]>"
      ]
     },
     "execution_count": 27,
     "metadata": {},
     "output_type": "execute_result"
    }
   ],
   "source": [
    "response"
   ]
  },
  {
   "cell_type": "code",
   "execution_count": null,
   "metadata": {},
   "outputs": [],
   "source": []
  }
 ],
 "metadata": {
  "kernelspec": {
   "display_name": ".venv",
   "language": "python",
   "name": "python3"
  },
  "language_info": {
   "codemirror_mode": {
    "name": "ipython",
    "version": 3
   },
   "file_extension": ".py",
   "mimetype": "text/x-python",
   "name": "python",
   "nbconvert_exporter": "python",
   "pygments_lexer": "ipython3",
   "version": "3.10.11"
  }
 },
 "nbformat": 4,
 "nbformat_minor": 2
}
