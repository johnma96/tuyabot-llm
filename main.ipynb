{
 "cells": [
  {
   "cell_type": "markdown",
   "metadata": {},
   "source": [
    "The goal of this notebook is to evaluate the final functions stored in the main.py file without needing to constantly run in a terminal."
   ]
  },
  {
   "cell_type": "code",
   "execution_count": null,
   "metadata": {},
   "outputs": [],
   "source": [
    "# Use this initial code to work in the notebook as if it were a module, that \n",
    "# is, to be able to export classes and functions from other subpackages.\n",
    "\n",
    "import pyprojroot\n",
    "import sys\n",
    "\n",
    "package_path = pyprojroot.here().__str__()\n",
    "if package_path not in sys.path:\n",
    "    sys.path.append(package_path)"
   ]
  },
  {
   "cell_type": "code",
   "execution_count": null,
   "metadata": {},
   "outputs": [],
   "source": [
    "import os\n",
    "import sys\n",
    "import pytz\n",
    "import mlflow\n",
    "import pickle\n",
    "\n",
    "import pandas as pd\n",
    "\n",
    "from datetime import datetime\n",
    "from dateutil.relativedelta import relativedelta\n",
    "\n",
    "#--- Time zone for date handling\n",
    "timezone_colombia = pytz.timezone('America/Bogota')\n",
    "\n",
    "# Setting variables to model and save predictions\n",
    "model_id = 'bccd331323ec459bb4eb8937dd9210ba'\n",
    "dataset = 'work_sas.jmmz_testing_scoring_model'\n",
    "table_daily = 'daily_prediction_scoring'"
   ]
  },
  {
   "cell_type": "code",
   "execution_count": null,
   "metadata": {},
   "outputs": [],
   "source": [
    "def run_daily_prediction(save_to_impala: bool = True, **kwargs):\n",
    "    \"\"\"\n",
    "    Run daily predictions for customer defaults within the specified date range.\n",
    "\n",
    "    Parameters\n",
    "    ----------\n",
    "    save_to_impala : bool, optional\n",
    "        If True, save prediction results to Impala. Default is True.\n",
    "    **kwargs : dict\n",
    "        Additional keyword arguments:\n",
    "        - start_date : str, optional\n",
    "            Start date for prediction processing. If provided, it overrides the default start date.\n",
    "        - end_date : str, optional\n",
    "            End date for prediction processing. If provided, it overrides the default end date.\n",
    "\n",
    "    Raises\n",
    "    ------\n",
    "    SystemExit\n",
    "        If the model has already been executed for the specified date \n",
    "        range (last_date_model_execution matches current_date_str).\n",
    "\n",
    "    Notes\n",
    "    -----\n",
    "    This function runs daily predictions for customer defaults based on the specified date range. It checks if the model has\n",
    "    already been executed for the current date and raises a SystemExit exception if so. Otherwise, it iterates over the date\n",
    "    range and executes predictions for each day within the range, using the `execute_prediction` function.\n",
    "\n",
    "    The results of the predictions can be optionally saved to Google BigQuery if `save_to_gbq` is True.\n",
    "    \"\"\""
   ]
  },
  {
   "cell_type": "code",
   "execution_count": null,
   "metadata": {},
   "outputs": [],
   "source": [
    "feat_and_pred = run_daily_prediction(save_to_gbq=False)"
   ]
  }
 ],
 "metadata": {
  "kernelspec": {
   "display_name": ".venv",
   "language": "python",
   "name": "python3"
  },
  "language_info": {
   "codemirror_mode": {
    "name": "ipython",
    "version": 3
   },
   "file_extension": ".py",
   "mimetype": "text/x-python",
   "name": "python",
   "nbconvert_exporter": "python",
   "pygments_lexer": "ipython3",
   "version": "3.10.11"
  },
  "orig_nbformat": 4
 },
 "nbformat": 4,
 "nbformat_minor": 2
}
